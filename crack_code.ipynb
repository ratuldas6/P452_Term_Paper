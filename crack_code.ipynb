{
 "cells": [
  {
   "cell_type": "code",
   "execution_count": 1,
   "metadata": {},
   "outputs": [],
   "source": [
    "import numpy as np\n",
    "import timeit\n",
    "import solver_lib\n",
    "import matplotlib.pyplot as plt\n",
    "import time\n",
    "from scipy.integrate import solve_ivp\n",
    "from scipy.linalg import solve\n",
    "from scipy.interpolate import interp1d"
   ]
  },
  {
   "cell_type": "code",
   "execution_count": 10,
   "metadata": {},
   "outputs": [],
   "source": [
    "# constants and parameters\n",
    "n_c = 1000      # no. of Chebyshev nodes\n",
    "nmax = 2000     # max vector length\n",
    "nr_sp = 99999   # no. of spatial nodes for pressure solution\n",
    "ntser = 1000    # no. of time steps in pressure model\n",
    "ntrial = 20     # max number of trials for Newton-Raphson (at 21st, it gives up)\n",
    "tol_NR = 1e-4   # tolerance for NR\n",
    "n = n_c + 1     # to deal with index mismatch error with matvec"
   ]
  },
  {
   "cell_type": "code",
   "execution_count": 11,
   "metadata": {},
   "outputs": [],
   "source": [
    "# Allocate necessary arrays\n",
    "#Jacx = np.zeros((n_c + 1, n_c + 1))\n",
    "Jacx = np.zeros((n, n))\n",
    "rd_block = np.zeros((nr_sp, 3))  # adjusting dimensions\n",
    "slip_out = np.zeros((n_c + 1, 5))\n",
    "phi = np.zeros(n_c)\n",
    "model = np.zeros(n_c + 1)\n",
    "#ones_v = np.ones(n_c + 1)\n",
    "ones_v = np.ones(n)"
   ]
  },
  {
   "cell_type": "code",
   "execution_count": 5,
   "metadata": {},
   "outputs": [],
   "source": [
    "ltry = 1000.0       # NR param 1 (make this such that a number of values are checked through (in gs version of code))\n",
    "phi1 = 1.0          # NR param 2"
   ]
  },
  {
   "cell_type": "code",
   "execution_count": null,
   "metadata": {},
   "outputs": [],
   "source": [
    "# Define constants\n",
    "alpha = 0.01\n",
    "r0 = 0.0\n",
    "P0 = 225.0\n",
    "sigma1 = 6e6\n",
    "sigma3 = 3e6\n",
    "dip = 70.0\n",
    "sigma = 300.0\n",
    "Str_drop = 150.0\n",
    "p_frac = P0/sigma\n",
    "s_frac = Str_drop/sigma\n",
    "fratio = 0.9\n",
    "gamma = 0.02"
   ]
  },
  {
   "cell_type": "code",
   "execution_count": 12,
   "metadata": {},
   "outputs": [],
   "source": [
    "def interp1D(x, y, xi):\n",
    "    \"\"\"Interpolate the 1D function.\"\"\"\n",
    "    f = interp1d(x, y, fill_value=\"extrapolate\")\n",
    "    return f(xi)\n",
    "\n",
    "def matvec_MKL(matrix, vector):\n",
    "    \"\"\"Matrix-vector multiplication.\"\"\"\n",
    "    return np.dot(matrix, vector)\n",
    "\n",
    "def read_unformatted(file_path, rec, dtype, shape):\n",
    "    \"\"\"\n",
    "    Reads a specific record from a binary file.\n",
    "\n",
    "    Args:\n",
    "        file_path (str): Path to the binary file.\n",
    "        rec (int): Record index to read (1-based index).\n",
    "        dtype (data-type): The data type of elements in the record.\n",
    "        shape (tuple): The shape of the data to read for one record.\n",
    "\n",
    "    Returns:\n",
    "        numpy.ndarray: An array containing the data from the specified record,\n",
    "                       reshaped to the given shape. Returns None if reading fails.\n",
    "    \"\"\"\n",
    "    record_size = np.product(shape) * np.dtype(dtype).itemsize  # size of one record in bytes\n",
    "    offset = (rec - 1) * record_size                            # compute the offset for the record\n",
    "\n",
    "    try:\n",
    "        with open(file_path, 'rb') as file:\n",
    "            file.seek(offset)                                               # move file pointer to start of reqd record\n",
    "            data = np.fromfile(file, dtype=dtype, count=np.product(shape))  # read data\n",
    "            if data.size != np.product(shape):                              # ensuring whole data is read\n",
    "                raise ValueError(\"Not enough data in file to read the specified record.\")\n",
    "            data = data.reshape(shape)                                      # reshape the data\n",
    "        return data\n",
    "    except Exception as e:\n",
    "        print(f\"Failed to read the file: {e}\")\n",
    "        return None"
   ]
  },
  {
   "cell_type": "code",
   "execution_count": 13,
   "metadata": {},
   "outputs": [],
   "source": [
    "# i/o file setup\n",
    "input_pressure_file = 'pressure_profile.dat'\n",
    "slip_output_file = 'dat_' + str(100*s_frac) + '_' + str(100*p_frac) + '_' + str(100*fratio) + '_' + str(100*gamma) + '.out'\n",
    "dumpfile1 = 'dumpfile1.dat'\n",
    "dumpfile2 = 'dumpfile2.dat'"
   ]
  },
  {
   "cell_type": "code",
   "execution_count": null,
   "metadata": {},
   "outputs": [],
   "source": [
    "# main crack sim loop\n",
    "for t_ct in range(4, ntser + 1):\n",
    "    # reading pressure file lines\n",
    "    rd_block = read_unformatted(input_pressure_file, rec=1+(t_ct-1), dtype=np.float64, shape=(nr_sp, 3))\n",
    "    \n",
    "    time_current = rd_block[0, 2]\n",
    "\n",
    "    # update rad_v and pressure\n",
    "    lnrad_v = rd_block[:, 0]\n",
    "    h = np.abs(lnrad_v[1] - lnrad_v[0])\n",
    "    rad_v = lnrad_v\n",
    "    pres_sim = rd_block[:, 1]\n",
    "    pres_grad = np.gradient(pres_sim, h)\n",
    "    \n",
    "    # conditions and loop control\n",
    "    if t_ct > 2:\n",
    "        L_e = r0 + np.sqrt(alpha * time_current)\n",
    "    \n",
    "    # NR code for model update\n",
    "    for trial in range(1, ntrial + 1):\n",
    "        r_crack = model[n_c] * np.linspace(-1, 1, n_c + 1)  # Scaled crack coordinates\n",
    "        \n",
    "        # interpolating pressure\n",
    "        pres_interp = interp1D(rad_v, pres_sim, r_crack)\n",
    "        pres_grad_interp = interp1D(rad_v, pres_grad, r_crack)\n",
    "        \n",
    "        # jacobian and function evaluation updates\n",
    "        f_eval = -(Str_drop * ones_v - pres_interp / sigma + matvec_MKL(Jacx, model[:n_c+1]))\n",
    "        \n",
    "        # solving the linear system\n",
    "        start = time.time()\n",
    "        solution = solve(Jacx, f_eval)\n",
    "        finish = time.time()\n",
    "        \n",
    "        # updating model\n",
    "        model += solution\n",
    "        time_total = finish - start\n",
    "\n",
    "        # convergence check\n",
    "        if np.max(np.abs(solution)) < tol_NR:\n",
    "            print(f\"Converged at time step {t_ct} after {trial} trials.\")\n",
    "            break\n",
    "    \n",
    "    #np.savetxt(slip_output_file, slip_out)\n",
    "    np.save(slip_output_file, slip_out)\n",
    "\n",
    "print(\"End of simulation.\")"
   ]
  }
 ],
 "metadata": {
  "kernelspec": {
   "display_name": "Python 3",
   "language": "python",
   "name": "python3"
  },
  "language_info": {
   "codemirror_mode": {
    "name": "ipython",
    "version": 3
   },
   "file_extension": ".py",
   "mimetype": "text/x-python",
   "name": "python",
   "nbconvert_exporter": "python",
   "pygments_lexer": "ipython3",
   "version": "3.10.12"
  }
 },
 "nbformat": 4,
 "nbformat_minor": 2
}
